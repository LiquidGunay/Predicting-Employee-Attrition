{
 "cells": [
  {
   "cell_type": "code",
   "execution_count": 1,
   "metadata": {
    "_cell_guid": "b1076dfc-b9ad-4769-8c92-a6c4dae69d19",
    "_uuid": "8f2839f25d086af736a60e9eeb907d3b93b6e0e5"
   },
   "outputs": [
    {
     "name": "stdout",
     "output_type": "stream",
     "text": [
      "/kaggle/input/summeranalytics2020/Sample_submission.csv\n",
      "/kaggle/input/summeranalytics2020/test.csv\n",
      "/kaggle/input/summeranalytics2020/train.csv\n"
     ]
    }
   ],
   "source": [
    "# This Python 3 environment comes with many helpful analytics libraries installed\n",
    "# It is defined by the kaggle/python Docker image: https://github.com/kaggle/docker-python\n",
    "# For example, here's several helpful packages to load\n",
    "\n",
    "import numpy as np # linear algebra\n",
    "import pandas as pd # data processing, CSV file I/O (e.g. pd.read_csv)\n",
    "\n",
    "# Input data files are available in the read-only \"../input/\" directory\n",
    "# For example, running this (by clicking run or pressing Shift+Enter) will list all files under the input directory\n",
    "\n",
    "import os\n",
    "for dirname, _, filenames in os.walk('/kaggle/input'):\n",
    "    for filename in filenames:\n",
    "        print(os.path.join(dirname, filename))\n",
    "\n",
    "# You can write up to 5GB to the current directory (/kaggle/working/) that gets preserved as output when you create a version using \"Save & Run All\" \n",
    "# You can also write temporary files to /kaggle/temp/, but they won't be saved outside of the current session"
   ]
  },
  {
   "cell_type": "code",
   "execution_count": 2,
   "metadata": {
    "_cell_guid": "79c7e3d0-c299-4dcb-8224-4455121ee9b0",
    "_uuid": "d629ff2d2480ee46fbb7e2d37f6b5fab8052498a"
   },
   "outputs": [],
   "source": [
    "from sklearn.model_selection import train_test_split\n",
    "from sklearn.metrics import confusion_matrix\n",
    "from sklearn.metrics import roc_auc_score\n",
    "from sklearn import preprocessing\n",
    "from sklearn.metrics import accuracy_score\n",
    "from matplotlib import pyplot as plt\n",
    "import seaborn as sns\n",
    "from xgboost import XGBClassifier\n",
    "from sklearn.model_selection import StratifiedKFold\n",
    "from sklearn.model_selection import cross_val_score\n",
    "trainX=pd.read_csv('../input/summeranalytics2020/train.csv')\n",
    "trainy=trainX.Attrition\n",
    "trainX.drop(['Attrition','EmployeeNumber'],axis=1,inplace=True)\n",
    "encodecolumns=trainX.select_dtypes(include='object').columns\n",
    "le = preprocessing.LabelEncoder()\n",
    "for l in encodecolumns:\n",
    "    trainX[l]=le.fit_transform(trainX[l])\n",
    "X_train,X_valid,y_train,y_valid= train_test_split(trainX,trainy,test_size=0.2,random_state=37)\n"
   ]
  },
  {
   "cell_type": "code",
   "execution_count": 3,
   "metadata": {},
   "outputs": [],
   "source": [
    "testx=pd.read_csv('../input/summeranalytics2020/test.csv')\n",
    "testx.drop(['EmployeeNumber'],axis=1,inplace=True)\n",
    "for l in encodecolumns:\n",
    "    testx[l]=le.fit_transform(testx[l])\n"
   ]
  },
  {
   "cell_type": "code",
   "execution_count": 4,
   "metadata": {},
   "outputs": [
    {
     "data": {
      "text/plain": [
       "0.791642051049004"
      ]
     },
     "execution_count": 4,
     "metadata": {},
     "output_type": "execute_result"
    }
   ],
   "source": [
    "\n",
    "model = XGBClassifier(objective='binary:logistic',booster='gbtree',max_depth=20,n_estimators=270)\n",
    "kfold = StratifiedKFold(n_splits=10)\n",
    "results = cross_val_score(model, trainX, trainy, cv=kfold)\n",
    "results.mean()"
   ]
  },
  {
   "cell_type": "markdown",
   "execution_count": null,
   "metadata": {},
   "source": [
    "model.fit(X_train,y_train,verbose=False,eval_set=[(X_valid,y_valid)],eval_metric='auc')\n",
    "print(\"Accuracy: %.2f%% (%.2f%%)\" % (results.mean()*100, results.std()*100))\n",
    "\n",
    "\n",
    "maxscores=[] for m in range(1,14): scores=[]\n",
    "\n",
    "for l in range(10,110):\n",
    "    \n",
    "maxscores.append(max(scores))\n",
    "\n"
   ]
  },
  {
   "cell_type": "code",
   "execution_count": 5,
   "metadata": {},
   "outputs": [
    {
     "data": {
      "image/png": "[encoded data removed]",
      "text/plain": [
       "<Figure size 432x288 with 1 Axes>"
      ]
     },
     "metadata": {},
     "output_type": "display_data"
    }
   ],
   "source": [
    "scores=[]\n",
    "for l in range(200,300):\n",
    "    model = XGBClassifier(objective='binary:logistic',booster='gbtree',max_depth=20,n_estimators=l,learning_rate=0.1)\n",
    "    model.fit(X_train,y_train,verbose=False,eval_set=[(X_valid,y_valid)],eval_metric='auc')\n",
    "    predictions= model.predict_proba(X_valid)[:,1]\n",
    "    scores.append(roc_auc_score(y_valid,predictions))\n",
    "sns.set_style('darkgrid')\n",
    "plt.plot(range(200,300),scores)\n",
    "plt.show()\n",
    "\n"
   ]
  },
  {
   "cell_type": "code",
   "execution_count": 6,
   "metadata": {},
   "outputs": [
    {
     "name": "stdout",
     "output_type": "stream",
     "text": [
      "0.975929069986795\n",
      "0.9202453987730062\n"
     ]
    }
   ],
   "source": [
    "model = XGBClassifier(objective='binary:logistic',booster='gbtree',max_depth=20,n_estimators=270,learning_rate=0.1)\n",
    "model.fit(X_train,y_train,verbose=False,eval_set=[(X_valid,y_valid)],eval_metric='auc')\n",
    "predictions= model.predict_proba(X_valid)[:,1]\n",
    "print(roc_auc_score(y_valid,predictions))\n",
    "print(accuracy_score(y_valid,model.predict(X_valid)))\n"
   ]
  },
  {
   "cell_type": "code",
   "execution_count": 7,
   "metadata": {},
   "outputs": [
    {
     "name": "stdout",
     "output_type": "stream",
     "text": [
      "1.0\n",
      "1.0\n"
     ]
    }
   ],
   "source": [
    "  \n",
    "model = XGBClassifier(objective='binary:logistic',booster='gbtree',max_depth=20,n_estimators=270,learning_rate=0.1)\n",
    "model.fit(trainX,trainy,verbose=False)\n",
    "predictions= model.predict_proba(X_valid)[:,1]\n",
    "print(roc_auc_score(y_valid,model.predict_proba(X_valid)[:,1]))\n",
    "print(accuracy_score(y_valid,model.predict(X_valid)))"
   ]
  },
  {
   "cell_type": "code",
   "execution_count": 8,
   "metadata": {},
   "outputs": [
    {
     "data": {
      "text/html": [
       "<div>\n",
       "<style scoped>\n",
       "    .dataframe tbody tr th:only-of-type {\n",
       "        vertical-align: middle;\n",
       "    }\n",
       "\n",
       "    .dataframe tbody tr th {\n",
       "        vertical-align: top;\n",
       "    }\n",
       "\n",
       "    .dataframe thead th {\n",
       "        text-align: right;\n",
       "    }\n",
       "</style>\n",
       "<table border=\"1\" class=\"dataframe\">\n",
       "  <thead>\n",
       "    <tr style=\"text-align: right;\">\n",
       "      <th></th>\n",
       "      <th>Id</th>\n",
       "      <th>Attrition</th>\n",
       "    </tr>\n",
       "  </thead>\n",
       "  <tbody>\n",
       "    <tr>\n",
       "      <th>0</th>\n",
       "      <td>1</td>\n",
       "      <td>0.001950</td>\n",
       "    </tr>\n",
       "    <tr>\n",
       "      <th>1</th>\n",
       "      <td>2</td>\n",
       "      <td>0.004617</td>\n",
       "    </tr>\n",
       "    <tr>\n",
       "      <th>2</th>\n",
       "      <td>3</td>\n",
       "      <td>0.003405</td>\n",
       "    </tr>\n",
       "    <tr>\n",
       "      <th>3</th>\n",
       "      <td>4</td>\n",
       "      <td>0.014157</td>\n",
       "    </tr>\n",
       "    <tr>\n",
       "      <th>4</th>\n",
       "      <td>5</td>\n",
       "      <td>0.001530</td>\n",
       "    </tr>\n",
       "  </tbody>\n",
       "</table>\n",
       "</div>"
      ],
      "text/plain": [
       "   Id  Attrition\n",
       "0   1   0.001950\n",
       "1   2   0.004617\n",
       "2   3   0.003405\n",
       "3   4   0.014157\n",
       "4   5   0.001530"
      ]
     },
     "execution_count": 8,
     "metadata": {},
     "output_type": "execute_result"
    }
   ],
   "source": [
    "model = XGBClassifier(objective='binary:logistic',booster='gbtree',max_depth=20,n_estimators=270,learning_rate=0.1)\n",
    "model.fit(trainX,trainy,verbose=False)\n",
    "testpred=model.predict_proba(testx)[:,1]\n",
    "Attrition=pd.Series(testpred,name='Attrition')\n",
    "finalprediction=pd.DataFrame()\n",
    "finalprediction['Id']=testx.Id\n",
    "finalprediction['Attrition']=Attrition\n",
    "finalprediction.head()"
   ]
  },
  {
   "cell_type": "code",
   "execution_count": 9,
   "metadata": {},
   "outputs": [],
   "source": [
    "finalprediction.to_csv('submission.csv',index=False)"
   ]
  },
  {
   "cell_type": "code",
   "execution_count": null,
   "metadata": {},
   "outputs": [],
   "source": []
  }
 ],
 "metadata": {
  "kernelspec": {
   "display_name": "Python 3",
   "language": "python",
   "name": "python3"
  },
  "language_info": {
   "codemirror_mode": {
    "name": "ipython",
    "version": 3
   },
   "file_extension": ".py",
   "mimetype": "text/x-python",
   "name": "python",
   "nbconvert_exporter": "python",
   "pygments_lexer": "ipython3",
   "version": "3.7.6"
  }
 },
 "nbformat": 4,
 "nbformat_minor": 4
}
